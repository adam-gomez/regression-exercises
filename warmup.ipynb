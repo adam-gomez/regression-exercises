{
 "cells": [
  {
   "cell_type": "markdown",
   "metadata": {},
   "source": [
    "# Distributions Warmup\n",
    "\n",
    "It's another day at the office at Big Research Co ™. You look up from your laptop and see a woman in a lab coat standing in front of your desk.\n",
    "\n",
    "\"I need some help\" she says. \"We lost some subjects from the trial.\"\n",
    "\n",
    "She notices a curious look on your face.\n",
    "\n",
    "\"Not like that, they just ran away. We didn't lock the doors soon enough.\"\n",
    "\n",
    "\"Anyway, there's probably like a 70%, no maybe 80%, no, let's say 90% chance that a given subject will stick around, and I need to run the study again with 10, or 20 subjects. We need to gather enough data on them to justify the cost, so I need you to figure out what are the probabilities are that at least half of them stick around, only 1 person leaves, and that all the subjects stay.\"\n",
    "\n",
    "She sees you start to form another question and cuts you off.\n",
    "\n",
    "\"Don't ask. You really don't want to know.\"\n",
    "\n",
    "- What probability distribution would you use to model the scenario outlined above?\n",
    "- Calculate all the requested probabilities. Use all the possible combinations of subject count and chance that a subject will stay in the study.\n",
    "- Bonus: visualize the requested probabilities.\n",
    "\n",
    "# Hints\n",
    "- Use scipy.stats for this.\n",
    "- A fancy list comprehension or the itertools module can help you find all the possible combinations.\n",
    "- Consider storing the results of your calculations in a data frame."
   ]
  },
  {
   "cell_type": "code",
   "execution_count": 44,
   "metadata": {},
   "outputs": [],
   "source": [
    "import matplotlib.pyplot as plt\n",
    "import numpy as np\n",
    "from scipy import stats\n",
    "from scipy.stats import binom\n",
    "import seaborn as sns"
   ]
  },
  {
   "cell_type": "markdown",
   "metadata": {},
   "source": [
    "### 20 Participants"
   ]
  },
  {
   "cell_type": "markdown",
   "metadata": {},
   "source": [
    "At least half stick around ( 10 people stay or 11 people stay or 12 people stay or 13 people stay or 14 people stay or 15 people stay or 16 people stay or 17 people stay or 18 people stay or 19 people stay or 20 people stay)"
   ]
  },
  {
   "cell_type": "code",
   "execution_count": 35,
   "metadata": {},
   "outputs": [
    {
     "data": {
      "text/plain": [
       "0.9999992911393668"
      ]
     },
     "execution_count": 35,
     "metadata": {},
     "output_type": "execute_result"
    }
   ],
   "source": [
    "stats.binom(20, .90).sf(9)"
   ]
  },
  {
   "cell_type": "markdown",
   "metadata": {},
   "source": [
    "Only 1 Person Leaves (19 people stay)"
   ]
  },
  {
   "cell_type": "code",
   "execution_count": 27,
   "metadata": {},
   "outputs": [
    {
     "data": {
      "text/plain": [
       "0.27017034353459823"
      ]
     },
     "execution_count": 27,
     "metadata": {},
     "output_type": "execute_result"
    }
   ],
   "source": [
    "stats.binom(20, .90).pmf(19)"
   ]
  },
  {
   "cell_type": "markdown",
   "metadata": {},
   "source": [
    "Nobody Leaves (20 people stay)"
   ]
  },
  {
   "cell_type": "code",
   "execution_count": 24,
   "metadata": {},
   "outputs": [
    {
     "data": {
      "text/plain": [
       "0.12157665459056931"
      ]
     },
     "execution_count": 24,
     "metadata": {},
     "output_type": "execute_result"
    }
   ],
   "source": [
    "stats.binom(20, .90).pmf(20)"
   ]
  },
  {
   "cell_type": "markdown",
   "metadata": {},
   "source": [
    "### 10 Participants\n",
    "At least half stick around (5 people stay or 6 people stay or 7 people stay or 8 people stay or 9 people 10 people stay)"
   ]
  },
  {
   "cell_type": "code",
   "execution_count": 37,
   "metadata": {},
   "outputs": [
    {
     "data": {
      "text/plain": [
       "0.9998530974"
      ]
     },
     "execution_count": 37,
     "metadata": {},
     "output_type": "execute_result"
    }
   ],
   "source": [
    "stats.binom(10, .90).sf(4)"
   ]
  },
  {
   "cell_type": "markdown",
   "metadata": {},
   "source": [
    "Only 1 Person Leaves (9 people stay)"
   ]
  },
  {
   "cell_type": "code",
   "execution_count": 39,
   "metadata": {},
   "outputs": [
    {
     "data": {
      "text/plain": [
       "0.38742048900000037"
      ]
     },
     "execution_count": 39,
     "metadata": {},
     "output_type": "execute_result"
    }
   ],
   "source": [
    "stats.binom(10, .90).pmf(9)"
   ]
  },
  {
   "cell_type": "markdown",
   "metadata": {},
   "source": [
    "Nobody Leaves (10 people stay)"
   ]
  },
  {
   "cell_type": "code",
   "execution_count": 40,
   "metadata": {},
   "outputs": [
    {
     "data": {
      "text/plain": [
       "0.34867844010000004"
      ]
     },
     "execution_count": 40,
     "metadata": {},
     "output_type": "execute_result"
    }
   ],
   "source": [
    "stats.binom(10, .90).pmf(10)"
   ]
  },
  {
   "cell_type": "markdown",
   "metadata": {},
   "source": [
    "### Visualizing the Distributions (20 People)"
   ]
  },
  {
   "cell_type": "code",
   "execution_count": 55,
   "metadata": {},
   "outputs": [
    {
     "data": {
      "text/plain": [
       "<BarContainer object of 21 artists>"
      ]
     },
     "execution_count": 55,
     "metadata": {},
     "output_type": "execute_result"
    },
    {
     "data": {
      "image/png": "[encoded data removed]",
      "text/plain": [
       "<Figure size 432x288 with 1 Axes>"
      ]
     },
     "metadata": {
      "needs_background": "light"
     },
     "output_type": "display_data"
    }
   ],
   "source": [
    "y = []\n",
    "for i in range(21):\n",
    "    y.append(stats.binom(20, .90).pmf(i))\n",
    "x = list(range(21))\n",
    "plt.bar(x, y)"
   ]
  },
  {
   "cell_type": "markdown",
   "metadata": {},
   "source": [
    "### Visualizing the Distribution (10 People)"
   ]
  },
  {
   "cell_type": "code",
   "execution_count": 56,
   "metadata": {},
   "outputs": [
    {
     "data": {
      "text/plain": [
       "<BarContainer object of 11 artists>"
      ]
     },
     "execution_count": 56,
     "metadata": {},
     "output_type": "execute_result"
    },
    {
     "data": {
      "image/png": "[encoded data removed]",
      "text/plain": [
       "<Figure size 432x288 with 1 Axes>"
      ]
     },
     "metadata": {
      "needs_background": "light"
     },
     "output_type": "display_data"
    }
   ],
   "source": [
    "y = []\n",
    "for i in range(11):\n",
    "    y.append(stats.binom(10, .90).pmf(i))\n",
    "x = list(range(11))\n",
    "plt.bar(x, y)"
   ]
  },
  {
   "cell_type": "markdown",
   "metadata": {},
   "source": [
    "# Matplotlib Warmup"
   ]
  },
  {
   "cell_type": "code",
   "execution_count": 1,
   "metadata": {},
   "outputs": [],
   "source": [
    "import matplotlib as mpl\n",
    "import matplotlib.pyplot as plt\n",
    "import pandas as pd\n",
    "import numpy as np\n",
    "\n",
    "url = 'https://gist.githubusercontent.com/zgulde/018f5d601efc79cb741a7aba92f51d29/raw/c08f1c09f605b43e9a354890f9dd68f296e76dc4/students.csv'\n",
    "df = pd.read_csv(url)"
   ]
  },
  {
   "cell_type": "markdown",
   "metadata": {},
   "source": [
    "`df` contains (fake) data on students time at codeup:\n",
    "\n",
    "- `ml_coffee`: coffee consumption in milliliters\n",
    "- `syntax_errors`: number of syntax errors\n",
    "- `p_days_absent`: percentage of days absent\n",
    "\n",
    "Create a scatter plot of syntax_errors and ml_coffee. Make sure to give your visual an appropriate title and labels.\n",
    "\n",
    "Create a scatter plot of p_days_absent and ml_coffee. Make sure to give your visual an appropriate title and labels.\n",
    "\n",
    "Perform any other customizations you think will help to the plots you have created"
   ]
  },
  {
   "cell_type": "code",
   "execution_count": 10,
   "metadata": {},
   "outputs": [
    {
     "data": {
      "text/html": [
       "<div>\n",
       "<style scoped>\n",
       "    .dataframe tbody tr th:only-of-type {\n",
       "        vertical-align: middle;\n",
       "    }\n",
       "\n",
       "    .dataframe tbody tr th {\n",
       "        vertical-align: top;\n",
       "    }\n",
       "\n",
       "    .dataframe thead th {\n",
       "        text-align: right;\n",
       "    }\n",
       "</style>\n",
       "<table border=\"1\" class=\"dataframe\">\n",
       "  <thead>\n",
       "    <tr style=\"text-align: right;\">\n",
       "      <th></th>\n",
       "      <th>ml_coffee</th>\n",
       "      <th>syntax_errors</th>\n",
       "      <th>p_days_absent</th>\n",
       "    </tr>\n",
       "  </thead>\n",
       "  <tbody>\n",
       "    <tr>\n",
       "      <th>0</th>\n",
       "      <td>16225</td>\n",
       "      <td>5.071306e+10</td>\n",
       "      <td>0.038821</td>\n",
       "    </tr>\n",
       "    <tr>\n",
       "      <th>1</th>\n",
       "      <td>18230</td>\n",
       "      <td>5.199823e+10</td>\n",
       "      <td>0.022748</td>\n",
       "    </tr>\n",
       "    <tr>\n",
       "      <th>2</th>\n",
       "      <td>15877</td>\n",
       "      <td>5.072630e+10</td>\n",
       "      <td>0.036627</td>\n",
       "    </tr>\n",
       "    <tr>\n",
       "      <th>3</th>\n",
       "      <td>8263</td>\n",
       "      <td>4.907919e+10</td>\n",
       "      <td>0.041293</td>\n",
       "    </tr>\n",
       "    <tr>\n",
       "      <th>4</th>\n",
       "      <td>13935</td>\n",
       "      <td>5.145114e+10</td>\n",
       "      <td>0.081544</td>\n",
       "    </tr>\n",
       "  </tbody>\n",
       "</table>\n",
       "</div>"
      ],
      "text/plain": [
       "   ml_coffee  syntax_errors  p_days_absent\n",
       "0      16225   5.071306e+10       0.038821\n",
       "1      18230   5.199823e+10       0.022748\n",
       "2      15877   5.072630e+10       0.036627\n",
       "3       8263   4.907919e+10       0.041293\n",
       "4      13935   5.145114e+10       0.081544"
      ]
     },
     "execution_count": 10,
     "metadata": {},
     "output_type": "execute_result"
    }
   ],
   "source": [
    "df.head()"
   ]
  },
  {
   "cell_type": "code",
   "execution_count": 17,
   "metadata": {},
   "outputs": [
    {
     "data": {
      "text/html": [
       "<div>\n",
       "<style scoped>\n",
       "    .dataframe tbody tr th:only-of-type {\n",
       "        vertical-align: middle;\n",
       "    }\n",
       "\n",
       "    .dataframe tbody tr th {\n",
       "        vertical-align: top;\n",
       "    }\n",
       "\n",
       "    .dataframe thead th {\n",
       "        text-align: right;\n",
       "    }\n",
       "</style>\n",
       "<table border=\"1\" class=\"dataframe\">\n",
       "  <thead>\n",
       "    <tr style=\"text-align: right;\">\n",
       "      <th></th>\n",
       "      <th>ml_coffee</th>\n",
       "      <th>syntax_errors</th>\n",
       "      <th>p_days_absent</th>\n",
       "      <th>oz_coffee</th>\n",
       "    </tr>\n",
       "  </thead>\n",
       "  <tbody>\n",
       "    <tr>\n",
       "      <th>0</th>\n",
       "      <td>16225</td>\n",
       "      <td>5.071306e+10</td>\n",
       "      <td>0.038821</td>\n",
       "      <td>548.633067</td>\n",
       "    </tr>\n",
       "    <tr>\n",
       "      <th>1</th>\n",
       "      <td>18230</td>\n",
       "      <td>5.199823e+10</td>\n",
       "      <td>0.022748</td>\n",
       "      <td>616.430250</td>\n",
       "    </tr>\n",
       "    <tr>\n",
       "      <th>2</th>\n",
       "      <td>15877</td>\n",
       "      <td>5.072630e+10</td>\n",
       "      <td>0.036627</td>\n",
       "      <td>536.865775</td>\n",
       "    </tr>\n",
       "    <tr>\n",
       "      <th>3</th>\n",
       "      <td>8263</td>\n",
       "      <td>4.907919e+10</td>\n",
       "      <td>0.041293</td>\n",
       "      <td>279.405549</td>\n",
       "    </tr>\n",
       "    <tr>\n",
       "      <th>4</th>\n",
       "      <td>13935</td>\n",
       "      <td>5.145114e+10</td>\n",
       "      <td>0.081544</td>\n",
       "      <td>471.198877</td>\n",
       "    </tr>\n",
       "  </tbody>\n",
       "</table>\n",
       "</div>"
      ],
      "text/plain": [
       "   ml_coffee  syntax_errors  p_days_absent   oz_coffee\n",
       "0      16225   5.071306e+10       0.038821  548.633067\n",
       "1      18230   5.199823e+10       0.022748  616.430250\n",
       "2      15877   5.072630e+10       0.036627  536.865775\n",
       "3       8263   4.907919e+10       0.041293  279.405549\n",
       "4      13935   5.145114e+10       0.081544  471.198877"
      ]
     },
     "execution_count": 17,
     "metadata": {},
     "output_type": "execute_result"
    }
   ],
   "source": [
    "df['oz_coffee'] = df.ml_coffee / 29.5735\n",
    "df.head()"
   ]
  },
  {
   "cell_type": "code",
   "execution_count": 35,
   "metadata": {},
   "outputs": [],
   "source": [
    "df['syntax_errors_billions'] = df.syntax_errors / 1_000_000_000\n",
    "df['cups_coffee'] = df.oz_coffee / 8"
   ]
  },
  {
   "cell_type": "code",
   "execution_count": 36,
   "metadata": {},
   "outputs": [
    {
     "data": {
      "text/plain": [
       "[Text(0, 0.5, '# of Syntax Errors (in billions)'),\n",
       " Text(0.5, 0, 'Coffee Consumption (cups)'),\n",
       " Text(0.5, 1.0, 'Students That Drink More Coffee Tend to Make More Errors')]"
      ]
     },
     "execution_count": 36,
     "metadata": {},
     "output_type": "execute_result"
    },
    {
     "data": {
      "image/png": "[encoded data removed]",
      "text/plain": [
       "<Figure size 936x504 with 1 Axes>"
      ]
     },
     "metadata": {
      "needs_background": "light"
     },
     "output_type": "display_data"
    }
   ],
   "source": [
    "ax = df.plot.scatter(y='syntax_errors_billions', x='cups_coffee', figsize=(13,7))\n",
    "ax.set(\n",
    "    xlabel= 'Coffee Consumption (cups)',\n",
    "    ylabel= '# of Syntax Errors (in billions)',\n",
    "    title= \"Students That Drink More Coffee Tend to Make More Errors\"\n",
    ")"
   ]
  },
  {
   "cell_type": "code",
   "execution_count": 37,
   "metadata": {},
   "outputs": [
    {
     "data": {
      "image/png": "[encoded data removed]",
      "text/plain": [
       "<Figure size 1080x360 with 3 Axes>"
      ]
     },
     "metadata": {
      "needs_background": "light"
     },
     "output_type": "display_data"
    }
   ],
   "source": [
    "plt.figure(figsize=(15,5))\n",
    "plt.subplot(1,3,1)\n",
    "plt.scatter(df.oz_coffee, df.syntax_errors)\n",
    "plt.title('Does Coffee Affect Syntax Errors?')\n",
    "plt.ylabel('Number of Syntax Errors')\n",
    "plt.xlabel('Coffee Consumptions (ounces)')\n",
    "\n",
    "plt.subplot(1,3,2)\n",
    "plt.hist(df.oz_coffee, edgecolor='black', linewidth=1.2)\n",
    "plt.title('Distribution of Coffee Consumption')\n",
    "plt.xlabel('Coffee Consumption (ounces)')\n",
    "plt.ylabel('Frequency')\n",
    "\n",
    "plt.subplot(1,3,3)\n",
    "plt.hist(df.syntax_errors, edgecolor='black', linewidth=1.2)\n",
    "plt.title('Distribution of Syntax Errors')\n",
    "plt.xlabel('Number of Syntax Errors')\n",
    "plt.ylabel('Frequency')\n",
    "\n",
    "plt.tight_layout()\n",
    "plt.show()"
   ]
  },
  {
   "cell_type": "code",
   "execution_count": 43,
   "metadata": {},
   "outputs": [
    {
     "data": {
      "image/png": "[encoded data removed]",
      "text/plain": [
       "<Figure size 432x288 with 1 Axes>"
      ]
     },
     "metadata": {
      "needs_background": "light"
     },
     "output_type": "display_data"
    }
   ],
   "source": [
    "plt.scatter(df.ml_coffee, df.p_days_absent * 100)\n",
    "plt.title('No Apparent Relationship Between Coffee and Absences')\n",
    "plt.xlabel('Coffee Consumption (mL)')\n",
    "plt.ylabel('Percent Days Absent')\n",
    "plt.show()"
   ]
  },
  {
   "cell_type": "code",
   "execution_count": 42,
   "metadata": {},
   "outputs": [
    {
     "data": {
      "text/plain": [
       "[Text(0, 0.5, '% Days Absent'),\n",
       " Text(0.5, 0, 'Coffee Consumption (mL)'),\n",
       " Text(0.5, 1.0, 'Coffee Consumption doesnt not correlate with absences')]"
      ]
     },
     "execution_count": 42,
     "metadata": {},
     "output_type": "execute_result"
    },
    {
     "data": {
      "image/png": "[encoded data removed]",
      "text/plain": [
       "<Figure size 648x360 with 1 Axes>"
      ]
     },
     "metadata": {
      "needs_background": "light"
     },
     "output_type": "display_data"
    }
   ],
   "source": [
    "fig, ax = plt.subplots(figsize=(9, 5))\n",
    "ax.scatter(df.ml_coffee, df.p_days_absent * 100)\n",
    "ax.set(\n",
    "    xlabel = 'Coffee Consumption (mL)',\n",
    "    ylabel = '% Days Absent',\n",
    "    title = 'Coffee Consumption doesnt not correlate with absences'\n",
    ")"
   ]
  },
  {
   "cell_type": "code",
   "execution_count": 49,
   "metadata": {},
   "outputs": [
    {
     "data": {
      "text/plain": [
       "'1,205,024'"
      ]
     },
     "execution_count": 49,
     "metadata": {},
     "output_type": "execute_result"
    }
   ],
   "source": [
    "def format_y_tick(tickvalue, position):\n",
    "    return '{:.0%}'.format(tickvalue)\n",
    "\n",
    "def format_x_tick(tickvalue, position):\n",
    "    return '{:,}'.format(int(tickvalue))\n",
    "\n",
    "format_y_tick(.01, None)\n",
    "format_x_tick(1205024, None)"
   ]
  },
  {
   "cell_type": "code",
   "execution_count": 50,
   "metadata": {},
   "outputs": [
    {
     "data": {
      "image/png": "[encoded data removed]",
      "text/plain": [
       "<Figure size 648x360 with 1 Axes>"
      ]
     },
     "metadata": {
      "needs_background": "light"
     },
     "output_type": "display_data"
    }
   ],
   "source": [
    "fig, ax = plt.subplots(figsize=(9, 5))\n",
    "ax.scatter(df.ml_coffee, df.p_days_absent)\n",
    "ax.set(\n",
    "    xlabel = 'Coffee Consumption (mL)',\n",
    "    ylabel = '% Days Absent',\n",
    "    title = 'Coffee Consumption doesnt not correlate with absences'\n",
    ")\n",
    "ax.yaxis.set_major_formatter(mpl.ticker.FuncFormatter(format_y_tick))\n",
    "ax.xaxis.set_major_formatter(mpl.ticker.FuncFormatter(format_x_tick))"
   ]
  },
  {
   "cell_type": "markdown",
   "metadata": {},
   "source": [
    "How to handle number presentation on x and y axis\n",
    "- domain-based scaling: e.g. divide by 1,000,000, use conversion factor (mL to cups)\n",
    "- A custom function + `mpl.ticker.FuncFormatter()\n",
    "- `ax.get_xticks()` + `ax.set_xticks()`"
   ]
  },
  {
   "cell_type": "code",
   "execution_count": null,
   "metadata": {},
   "outputs": [],
   "source": []
  }
 ],
 "metadata": {
  "kernelspec": {
   "display_name": "Python 3",
   "language": "python",
   "name": "python3"
  },
  "language_info": {
   "codemirror_mode": {
    "name": "ipython",
    "version": 3
   },
   "file_extension": ".py",
   "mimetype": "text/x-python",
   "name": "python",
   "nbconvert_exporter": "python",
   "pygments_lexer": "ipython3",
   "version": "3.7.6"
  }
 },
 "nbformat": 4,
 "nbformat_minor": 4
}
